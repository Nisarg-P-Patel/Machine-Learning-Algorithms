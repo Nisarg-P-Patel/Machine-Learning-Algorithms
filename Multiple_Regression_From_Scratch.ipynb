{
  "cells": [
    {
      "cell_type": "code",
      "execution_count": null,
      "metadata": {
        "id": "wGH0z--wO6Uz",
        "outputId": "1ff2af5f-035a-48f0-d97f-24116341c188"
      },
      "outputs": [
        {
          "name": "stdout",
          "output_type": "stream",
          "text": [
            "(506, 13)\n",
            "Train set size:- 406\n",
            "Test set size:- 100\n",
            "Features:- 14\n"
          ]
        }
      ],
      "source": [
        "### multiple linear regression\n",
        "import numpy as np\n",
        "from sklearn import datasets as dt\n",
        "from sklearn import metrics as mt\n",
        "from sklearn.preprocessing import StandardScaler\n",
        "\n",
        "X,Y=dt.load_boston(return_X_y=True)\n",
        "print(X.shape)\n",
        "\n",
        "X_temp=X[100:,:]\n",
        "X_train=np.ones((X_temp.shape[0],X_temp.shape[1]+1))\n",
        "X_train[:,1:]=X_temp\n",
        "\n",
        "Y_train=Y[100:]\n",
        "\n",
        "X_temp=X[:100,:]\n",
        "X_test=np.ones((X_temp.shape[0],X_temp.shape[1]+1))\n",
        "X_test[:,1:]=X_temp\n",
        "\n",
        "Y_test=Y[:100]\n",
        "\n",
        "scaler=StandardScaler()\n",
        "\n",
        "scaler.fit(X_train[:,1:])\n",
        "X_train[:,1:]=scaler.transform(X_train[:,1:])\n",
        "X_test[:,1:]=scaler.transform(X_test[:,1:])\n",
        "\n",
        "#print(X_test)\n",
        "#print(Y_test)\n",
        "\n",
        "print(\"Train set size:-\",X_train.shape[0])\n",
        "print(\"Test set size:-\",X_test.shape[0])\n",
        "print(\"Features:-\",X_train.shape[1])"
      ]
    },
    {
      "cell_type": "code",
      "execution_count": null,
      "metadata": {
        "id": "UW35kd1SO6U4",
        "outputId": "08969202-feab-40ac-9987-8462d44abc8b"
      },
      "outputs": [
        {
          "name": "stdout",
          "output_type": "stream",
          "text": [
            "406 14\n",
            "[22.58691066 -0.86915986  1.01029876 -0.16563921  0.77429947 -1.99384387\n",
            "  2.71519504 -0.08490601 -3.24207408  1.63874785 -0.94297264 -2.14417097\n",
            "  0.94454983 -4.13949307]\n"
          ]
        }
      ],
      "source": [
        "# Gradient Descent\n",
        "# @1 = @1 - (alpha/m)*(d/d@)(J(@0,@1))\n",
        "theta1=np.zeros(14)\n",
        "\n",
        "iterations=10000\n",
        "alpha=0.001\n",
        "m=X_train.shape[0]\n",
        "n=X_train.shape[1]\n",
        "print(m,n)\n",
        "\n",
        "for i in range(iterations):\n",
        "    update=np.zeros(X_train.shape[1])\n",
        "    error=np.dot(X_train,theta1) - Y_train\n",
        "    for j in range(n):\n",
        "        update[j]=np.sum(error*(X_train.T)[j])\n",
        "    theta1=theta1 - (1/m)*(alpha)*update\n",
        "\n",
        "print(theta1)"
      ]
    },
    {
      "cell_type": "code",
      "execution_count": null,
      "metadata": {
        "id": "m0DFsuaXO6U4",
        "outputId": "6d5f3ff1-79b8-45ac-99a3-653969b25e0c"
      },
      "outputs": [
        {
          "name": "stdout",
          "output_type": "stream",
          "text": [
            "Gradient decent\n",
            "Absolute_GD : 2.4519014094649005\n",
            "Squared_GD  : 11.102375021767523\n",
            "R_Square_GD : 0.6808692027375474\n"
          ]
        }
      ],
      "source": [
        "# gradient decent\n",
        "\n",
        "predict1=np.dot(X_test,theta1)\n",
        "\n",
        "maegd=mt.mean_absolute_error(Y_test,predict1)\n",
        "msegd=mt.mean_squared_error(Y_test,predict1)\n",
        "r2gd=mt.r2_score(Y_test,predict1)\n",
        "\n",
        "print(\"Gradient decent\")\n",
        "print(\"Absolute_GD :\",maegd)\n",
        "print(\"Squared_GD  :\",msegd)\n",
        "print(\"R_Square_GD :\",r2gd)"
      ]
    },
    {
      "cell_type": "code",
      "execution_count": null,
      "metadata": {
        "id": "nlgtAuFKO6U5",
        "outputId": "6b5625ef-398f-428f-e0b6-c3c4b7ec232e"
      },
      "outputs": [
        {
          "name": "stdout",
          "output_type": "stream",
          "text": [
            "406 14\n",
            "[22.04417368 -0.84261073  0.93590481 -0.22100579  0.77605916 -1.83578365\n",
            "  2.7381661  -0.0756395  -2.99500614  1.46776172 -0.88263879 -2.08034483\n",
            "  0.9328234  -3.99134915]\n"
          ]
        }
      ],
      "source": [
        "# gradient decent with regularization\n",
        "# @1 = @1 - (alpha/m)*(d/d@)(J(@0,@1)) -@1(alpha*lambda/m)\n",
        "\n",
        "side_mat=np.zeros((n,n))\n",
        "for i in range(1,n):\n",
        "    side_mat[i,i]=1\n",
        "lambda_value=10\n",
        "\n",
        "theta1=np.zeros(14)\n",
        "\n",
        "iterations=10000\n",
        "alpha=0.001\n",
        "m=X_train.shape[0]\n",
        "n=X_train.shape[1]\n",
        "print(m,n)\n",
        "\n",
        "for i in range(iterations):\n",
        "    update=np.zeros(X_train.shape[1])\n",
        "    error=np.dot(X_train,theta1)- Y_train\n",
        "    for j in range(n):\n",
        "        update[j]=np.sum(error*(X_train.T)[j])\n",
        "    theta1=theta1-theta1*(alpha*lambda_value/m)\n",
        "    theta1=theta1 - (1/m)*(alpha)*update\n",
        "\n",
        "print(theta1)"
      ]
    },
    {
      "cell_type": "code",
      "execution_count": null,
      "metadata": {
        "id": "zlwnv9OYO6U6",
        "outputId": "34f327b2-df2b-4534-fda9-2af801394c17"
      },
      "outputs": [
        {
          "name": "stdout",
          "output_type": "stream",
          "text": [
            "Gradient decent with regularization\n",
            "Absolute_GD_RZ : 2.3009924618618682\n",
            "Squared_GD_RZ  : 10.264224998836285\n",
            "R_Square_GD_RZ : 0.7049612987547655\n"
          ]
        }
      ],
      "source": [
        "# gradient decent with regularization\n",
        "\n",
        "predict4=np.dot(X_test,theta1)\n",
        "\n",
        "maengd_reg=mt.mean_absolute_error(Y_test,predict4)\n",
        "msengd_reg=mt.mean_squared_error(Y_test,predict4)\n",
        "r2gd_reg=mt.r2_score(Y_test,predict4)\n",
        "\n",
        "print(\"Gradient decent with regularization\")\n",
        "print(\"Absolute_GD_RZ :\",maengd_reg)\n",
        "print(\"Squared_GD_RZ  :\",msengd_reg)\n",
        "print(\"R_Square_GD_RZ :\",r2gd_reg)"
      ]
    },
    {
      "cell_type": "code",
      "execution_count": null,
      "metadata": {
        "id": "7Nu6gXTdO6U7"
      },
      "outputs": [],
      "source": [
        "#print(len(predict1))\n",
        "#print(predict1)"
      ]
    },
    {
      "cell_type": "code",
      "execution_count": null,
      "metadata": {
        "id": "2AUFWp0OO6U8",
        "outputId": "49a37129-301b-41b3-94f5-c1d2707b04b6"
      },
      "outputs": [
        {
          "name": "stdout",
          "output_type": "stream",
          "text": [
            "Normal Eqation\n",
            "Absolute_NE : 2.632699180048907\n",
            "Squared_NE  : 12.601521261747134\n",
            "R_Square_NE : 0.6808692027375474\n"
          ]
        }
      ],
      "source": [
        "# normal equation\n",
        "# @2= ( ( ( (X`X)` ) .X`).Y)\n",
        "theta2=np.dot( np.dot ( np.linalg.inv(np.dot(X_train.T , X_train)) ,X_train.T ), Y_train)\n",
        "\n",
        "predict2=np.dot(X_test,theta2)\n",
        "\n",
        "maenormal=mt.mean_absolute_error(Y_test,predict2)\n",
        "msenormal=mt.mean_squared_error(Y_test,predict2)\n",
        "r2normal=mt.r2_score(Y_test,predict1)\n",
        "\n",
        "print(\"Normal Eqation\")\n",
        "print(\"Absolute_NE :\",maenormal)\n",
        "print(\"Squared_NE  :\",msenormal)\n",
        "print(\"R_Square_NE :\",r2normal)"
      ]
    },
    {
      "cell_type": "code",
      "execution_count": null,
      "metadata": {
        "id": "nIfP80RPO6U8"
      },
      "outputs": [],
      "source": [
        "#print(len(predict2))\n",
        "#print(predict2)"
      ]
    },
    {
      "cell_type": "code",
      "execution_count": null,
      "metadata": {
        "id": "4c5QC9QSO6U9",
        "outputId": "6005f61d-b4ff-4578-81c2-aaad951160fc"
      },
      "outputs": [
        {
          "name": "stdout",
          "output_type": "stream",
          "text": [
            "Normal Eqaution with regularization\n",
            "Absolute_NE_RZ : 2.5029699484935928\n",
            "Squared_NE_RZ  : 11.453726771795216\n",
            "R_Square_NE_RZ : 0.6707698173460381\n"
          ]
        }
      ],
      "source": [
        "# normal equation with regularization\n",
        "# @2= ( ( ( (X`X + lambda*side_mat)` ) .X`).Y)\n",
        "\n",
        "side_mat=np.zeros((n,n))\n",
        "for i in range(1,n):\n",
        "    side_mat[i,i]=1\n",
        "lambda_value=10\n",
        "theta3=np.dot( np.dot ( np.linalg.inv(np.dot(X_train.T,X_train) + lambda_value*side_mat) ,X_train.T ), Y_train)\n",
        "\n",
        "predict3=np.dot(X_test,theta3)\n",
        "\n",
        "maenormal_reg=mt.mean_absolute_error(Y_test,predict3)\n",
        "msenormal_reg=mt.mean_squared_error(Y_test,predict3)\n",
        "r2normal_reg=mt.r2_score(Y_test,predict3)\n",
        "\n",
        "print(\"Normal Eqaution with regularization\")\n",
        "print(\"Absolute_NE_RZ :\",maenormal_reg)\n",
        "print(\"Squared_NE_RZ  :\",msenormal_reg)\n",
        "print(\"R_Square_NE_RZ :\",r2normal_reg)"
      ]
    },
    {
      "cell_type": "code",
      "execution_count": null,
      "metadata": {
        "id": "Kw0yaCTqO6U9"
      },
      "outputs": [],
      "source": [
        "#print(len(predict3))\n",
        "#print(predict3)"
      ]
    }
  ],
  "metadata": {
    "kernelspec": {
      "display_name": "Python 3",
      "language": "python",
      "name": "python3"
    },
    "language_info": {
      "codemirror_mode": {
        "name": "ipython",
        "version": 3
      },
      "file_extension": ".py",
      "mimetype": "text/x-python",
      "name": "python",
      "nbconvert_exporter": "python",
      "pygments_lexer": "ipython3",
      "version": "3.7.6"
    },
    "colab": {
      "provenance": []
    }
  },
  "nbformat": 4,
  "nbformat_minor": 0
}