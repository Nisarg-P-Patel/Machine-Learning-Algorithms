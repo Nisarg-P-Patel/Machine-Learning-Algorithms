{
  "cells": [
    {
      "cell_type": "code",
      "execution_count": null,
      "metadata": {
        "id": "3z1qtcMXj2bd"
      },
      "outputs": [],
      "source": [
        "import numpy,math\n",
        "from sklearn import neighbors as nb\n",
        "from sklearn import datasets as dt\n",
        "from sklearn import metrics as mt\n",
        "from sklearn.model_selection import GridSearchCV\n",
        "\n",
        "X,Y=dt.load_iris(return_X_y=True)\n",
        "\n",
        "X_train=X[range(0,150,2),:]\n",
        "Y_train=Y[range(0,150,2)]\n",
        "\n",
        "X_test=X[range(1,150,2),:]\n",
        "Y_test=Y[range(1,150,2)]\n"
      ]
    },
    {
      "cell_type": "code",
      "execution_count": null,
      "metadata": {
        "id": "2V1jjjrVj2bf"
      },
      "outputs": [],
      "source": [
        "def print_prediction(K,tp):\n",
        "    clf=nb.KNeighborsClassifier(K,'uniform')\n",
        "    clf.fit(X_train,Y_train)\n",
        "    prediction=clf.predict(X_test)\n",
        "    if tp==False:\n",
        "        return mt.accuracy_score(Y_test,prediction,normalize=True)\n",
        "    else:\n",
        "        print(\"Predictions\\n\")\n",
        "        print(prediction)\n",
        "\n",
        "        print(\"\\nAccuracy with normalize = \",mt.accuracy_score(Y_test,prediction,normalize=True))\n",
        "        print(mt.classification_report(Y_test,prediction))\n",
        "        print(mt.confusion_matrix(Y_test,prediction))"
      ]
    },
    {
      "cell_type": "code",
      "execution_count": null,
      "metadata": {
        "id": "oYKfMTiAj2bf",
        "outputId": "06ea7761-991e-42b4-d3f3-c667a45d7261"
      },
      "outputs": [
        {
          "name": "stdout",
          "output_type": "stream",
          "text": [
            "K value :-  5\n",
            "Accuracy :-  0.9866666666666667\n"
          ]
        }
      ],
      "source": [
        "temp=[]\n",
        "temp2=[]\n",
        "for i in range(3,int(math.sqrt(len(X_train)))):\n",
        "    a=print_prediction(i,False)\n",
        "    temp.append(a)\n",
        "    temp2.append(i)\n",
        "print(\"K value :- \",end=\" \")\n",
        "print(temp2[temp.index(max(temp))])\n",
        "print(\"Accuracy :- \",end=\" \")\n",
        "print(max(temp))"
      ]
    },
    {
      "cell_type": "code",
      "execution_count": null,
      "metadata": {
        "id": "tRD8hjhDj2bg",
        "outputId": "bc0d9341-039c-48a4-8dee-dc5016a6fadf"
      },
      "outputs": [
        {
          "name": "stdout",
          "output_type": "stream",
          "text": [
            "Predictions\n",
            "\n",
            "[0 0 0 0 0 0 0 0 0 0 0 0 0 0 0 0 0 0 0 0 0 0 0 0 0 1 1 1 1 1 1 1 1 1 1 1 1\n",
            " 1 1 1 1 2 1 1 1 1 1 1 1 1 2 2 2 2 2 2 2 2 2 2 2 2 2 2 2 2 2 2 2 2 2 2 2 2\n",
            " 2]\n",
            "\n",
            "Accuracy with normalize =  0.9866666666666667\n",
            "              precision    recall  f1-score   support\n",
            "\n",
            "           0       1.00      1.00      1.00        25\n",
            "           1       1.00      0.96      0.98        25\n",
            "           2       0.96      1.00      0.98        25\n",
            "\n",
            "    accuracy                           0.99        75\n",
            "   macro avg       0.99      0.99      0.99        75\n",
            "weighted avg       0.99      0.99      0.99        75\n",
            "\n",
            "[[25  0  0]\n",
            " [ 0 24  1]\n",
            " [ 0  0 25]]\n"
          ]
        }
      ],
      "source": [
        "K_value=max(temp2)\n",
        "print_prediction(K_value,True)"
      ]
    },
    {
      "cell_type": "code",
      "execution_count": null,
      "metadata": {
        "id": "p3PyDP63j2bh",
        "outputId": "3a55011f-68c1-4060-8ee0-0f31906902e5"
      },
      "outputs": [
        {
          "name": "stdout",
          "output_type": "stream",
          "text": [
            "Fitting 5 folds for each of 40 candidates, totalling 200 fits\n"
          ]
        },
        {
          "name": "stderr",
          "output_type": "stream",
          "text": [
            "[Parallel(n_jobs=-1)]: Using backend LokyBackend with 4 concurrent workers.\n",
            "[Parallel(n_jobs=-1)]: Done  68 tasks      | elapsed:    1.7s\n",
            "[Parallel(n_jobs=-1)]: Done 200 out of 200 | elapsed:    1.9s finished\n"
          ]
        },
        {
          "name": "stdout",
          "output_type": "stream",
          "text": [
            "KNeighborsClassifier(algorithm='auto', leaf_size=30, metric='minkowski',\n",
            "                     metric_params=None, n_jobs=None, n_neighbors=5, p=2,\n",
            "                     weights='uniform')\n",
            "{'algorithm': 'auto', 'n_neighbors': 5, 'weights': 'uniform'}\n",
            "0.9866666666666667\n"
          ]
        }
      ],
      "source": [
        "# To Check on which combination we can get the highest accuracy\n",
        "kn=nb.KNeighborsClassifier()\n",
        "parameters={'n_neighbors' : [5,10,15,20,25],\n",
        "            'weights': ['uniform', 'distance'],\n",
        "            'algorithm': ['auto', 'ball_tree', 'kd_tree', 'brute']}\n",
        "\n",
        "grid_kn=GridSearchCV(estimator = kn,\n",
        "                     param_grid = parameters,\n",
        "                     scoring = 'accuracy',\n",
        "                     cv = 5,\n",
        "                     verbose = 1,\n",
        "                     n_jobs = -1)\n",
        "\n",
        "grid_kn.fit(X_train,Y_train)\n",
        "print(grid_kn.best_estimator_)\n",
        "print(grid_kn.best_params_)\n",
        "print(grid_kn.score(X_test,Y_test))"
      ]
    },
    {
      "cell_type": "code",
      "execution_count": null,
      "metadata": {
        "id": "sa4DhRa0j2bh"
      },
      "outputs": [],
      "source": []
    }
  ],
  "metadata": {
    "kernelspec": {
      "display_name": "Python 3",
      "language": "python",
      "name": "python3"
    },
    "language_info": {
      "codemirror_mode": {
        "name": "ipython",
        "version": 3
      },
      "file_extension": ".py",
      "mimetype": "text/x-python",
      "name": "python",
      "nbconvert_exporter": "python",
      "pygments_lexer": "ipython3",
      "version": "3.7.6"
    },
    "colab": {
      "provenance": []
    }
  },
  "nbformat": 4,
  "nbformat_minor": 0
}