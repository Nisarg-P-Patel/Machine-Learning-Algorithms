{
  "cells": [
    {
      "cell_type": "code",
      "execution_count": null,
      "metadata": {
        "id": "QkP3sCMZj0eP"
      },
      "outputs": [],
      "source": [
        "import numpy as np\n",
        "from sklearn import datasets as dt\n",
        "from sklearn import metrics as mt\n",
        "from sklearn.model_selection import GridSearchCV\n",
        "from sklearn import tree as T\n",
        "from sklearn.tree import DecisionTreeClassifier as DTC\n",
        "from sklearn.utils import shuffle\n",
        "\n",
        "X,Y = dt.load_iris(return_X_y=True)\n",
        "\n",
        "X,Y = shuffle(X,Y, random_state=0)\n",
        "\n",
        "X_train=X[range(0,135),:]\n",
        "Y_train=Y[range(0,135)]\n",
        "\n",
        "X_test=X[range(135,150),:]\n",
        "Y_test=Y[range(135,150)]\n",
        "\n",
        "# print(X_train)\n",
        "# print(y_train)\n",
        "# print(X_test)\n",
        "# print(y_test)"
      ]
    },
    {
      "cell_type": "code",
      "execution_count": null,
      "metadata": {
        "id": "lNwEOeIdj0eS"
      },
      "outputs": [],
      "source": [
        "clf=DTC(criterion='entropy')\n",
        "# clf=DTC()"
      ]
    },
    {
      "cell_type": "code",
      "execution_count": null,
      "metadata": {
        "id": "ImQ9jAbGj0eT",
        "outputId": "8edc2571-193d-4733-d3ac-22e9460d651a"
      },
      "outputs": [
        {
          "name": "stdout",
          "output_type": "stream",
          "text": [
            "[1 2 2 0 1 1 2 1 0 0 0 2 1 2 0]\n",
            "\n",
            "Accuracy with normalize =  0.9333333333333333\n",
            "              precision    recall  f1-score   support\n",
            "\n",
            "           0       1.00      1.00      1.00         5\n",
            "           1       1.00      0.83      0.91         6\n",
            "           2       0.80      1.00      0.89         4\n",
            "\n",
            "    accuracy                           0.93        15\n",
            "   macro avg       0.93      0.94      0.93        15\n",
            "weighted avg       0.95      0.93      0.93        15\n",
            "\n",
            "[[5 0 0]\n",
            " [0 5 1]\n",
            " [0 0 4]]\n"
          ]
        }
      ],
      "source": [
        "clf.fit(X_train,Y_train)\n",
        "prediction=clf.predict(X_test)\n",
        "print(prediction)\n",
        "\n",
        "print(\"\\nAccuracy with normalize = \",mt.accuracy_score(Y_test,prediction,normalize=True))\n",
        "print(mt.classification_report(Y_test,prediction))\n",
        "print(mt.confusion_matrix(Y_test,prediction))"
      ]
    },
    {
      "cell_type": "code",
      "execution_count": null,
      "metadata": {
        "id": "-kRpaoadj0eU",
        "outputId": "7e73cfee-ef0f-4c02-91a5-e0d79524340e"
      },
      "outputs": [
        {
          "data": {
            "text/plain": [
              "[Text(148.8, 199.32, 'X[3] <= 0.8\\nentropy = 1.585\\nsamples = 135\\nvalue = [45, 44, 46]'),\n",
              " Text(111.60000000000001, 163.07999999999998, 'entropy = 0.0\\nsamples = 45\\nvalue = [45, 0, 0]'),\n",
              " Text(186.0, 163.07999999999998, 'X[3] <= 1.75\\nentropy = 1.0\\nsamples = 90\\nvalue = [0, 44, 46]'),\n",
              " Text(148.8, 126.83999999999999, 'X[2] <= 4.95\\nentropy = 0.475\\nsamples = 49\\nvalue = [0, 44, 5]'),\n",
              " Text(74.4, 90.6, 'X[3] <= 1.65\\nentropy = 0.159\\nsamples = 43\\nvalue = [0, 42, 1]'),\n",
              " Text(37.2, 54.359999999999985, 'entropy = 0.0\\nsamples = 42\\nvalue = [0, 42, 0]'),\n",
              " Text(111.60000000000001, 54.359999999999985, 'entropy = 0.0\\nsamples = 1\\nvalue = [0, 0, 1]'),\n",
              " Text(223.20000000000002, 90.6, 'X[3] <= 1.55\\nentropy = 0.918\\nsamples = 6\\nvalue = [0, 2, 4]'),\n",
              " Text(186.0, 54.359999999999985, 'entropy = 0.0\\nsamples = 3\\nvalue = [0, 0, 3]'),\n",
              " Text(260.40000000000003, 54.359999999999985, 'X[2] <= 5.45\\nentropy = 0.918\\nsamples = 3\\nvalue = [0, 2, 1]'),\n",
              " Text(223.20000000000002, 18.119999999999976, 'entropy = 0.0\\nsamples = 2\\nvalue = [0, 2, 0]'),\n",
              " Text(297.6, 18.119999999999976, 'entropy = 0.0\\nsamples = 1\\nvalue = [0, 0, 1]'),\n",
              " Text(223.20000000000002, 126.83999999999999, 'entropy = 0.0\\nsamples = 41\\nvalue = [0, 0, 41]')]"
            ]
          },
          "execution_count": 4,
          "metadata": {},
          "output_type": "execute_result"
        },
        {
          "data": {
            "image/png": "[encoded data removed]",
            "text/plain": [
              "<Figure size 432x288 with 1 Axes>"
            ]
          },
          "metadata": {
            "needs_background": "light"
          },
          "output_type": "display_data"
        }
      ],
      "source": [
        "T.plot_tree(clf)"
      ]
    },
    {
      "cell_type": "code",
      "execution_count": null,
      "metadata": {
        "id": "4DHbX2pDj0eU",
        "outputId": "d961ca84-12a4-47a8-906c-52932dc0278c"
      },
      "outputs": [
        {
          "name": "stdout",
          "output_type": "stream",
          "text": [
            "Fitting 3 folds for each of 294 candidates, totalling 882 fits\n"
          ]
        },
        {
          "name": "stderr",
          "output_type": "stream",
          "text": [
            "[Parallel(n_jobs=1)]: Using backend SequentialBackend with 1 concurrent workers.\n"
          ]
        },
        {
          "name": "stdout",
          "output_type": "stream",
          "text": [
            "{'max_leaf_nodes': 4, 'min_samples_split': 2}\n",
            "\n",
            "DecisionTreeClassifier(ccp_alpha=0.0, class_weight=None, criterion='gini',\n",
            "                       max_depth=None, max_features=None, max_leaf_nodes=4,\n",
            "                       min_impurity_decrease=0.0, min_impurity_split=None,\n",
            "                       min_samples_leaf=1, min_samples_split=2,\n",
            "                       min_weight_fraction_leaf=0.0, presort='deprecated',\n",
            "                       random_state=42, splitter='best')\n",
            "[1 2 2 0 1 1 2 1 0 0 0 2 1 2 0]\n",
            "\n",
            "0.9333333333333333\n"
          ]
        },
        {
          "name": "stderr",
          "output_type": "stream",
          "text": [
            "[Parallel(n_jobs=1)]: Done 882 out of 882 | elapsed:    1.0s finished\n"
          ]
        }
      ],
      "source": [
        "params = {\n",
        "        'max_leaf_nodes': list(range(2, 100)),\n",
        "        'min_samples_split': [2, 3, 4]}\n",
        "\n",
        "grid = GridSearchCV(DTC(random_state=42), params, verbose=1, cv=3).fit(X_train,Y_train)\n",
        "\n",
        "print(grid.best_params_)\n",
        "print()\n",
        "print(grid.best_estimator_)\n",
        "print(grid.predict(X_test))\n",
        "print()\n",
        "print(mt.accuracy_score(Y_test,grid.predict(X_test),normalize=True))"
      ]
    },
    {
      "cell_type": "code",
      "execution_count": null,
      "metadata": {
        "id": "ehAWSkvVj0eV"
      },
      "outputs": [],
      "source": []
    }
  ],
  "metadata": {
    "kernelspec": {
      "display_name": "Python 3",
      "language": "python",
      "name": "python3"
    },
    "language_info": {
      "codemirror_mode": {
        "name": "ipython",
        "version": 3
      },
      "file_extension": ".py",
      "mimetype": "text/x-python",
      "name": "python",
      "nbconvert_exporter": "python",
      "pygments_lexer": "ipython3",
      "version": "3.7.6"
    },
    "colab": {
      "provenance": []
    }
  },
  "nbformat": 4,
  "nbformat_minor": 0
}