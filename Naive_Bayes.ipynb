{
  "cells": [
    {
      "cell_type": "code",
      "execution_count": null,
      "metadata": {
        "id": "hFMlM4j3O4to"
      },
      "outputs": [],
      "source": [
        "import numpy\n",
        "from sklearn import datasets as dt\n",
        "from sklearn import metrics as mt\n",
        "from sklearn.naive_bayes import GaussianNB as GNB\n",
        "from sklearn.naive_bayes import BernoulliNB as BNB\n",
        "from sklearn.naive_bayes import MultinomialNB as MNB\n",
        "\n",
        "X,Y=dt.load_iris(return_X_y=True)\n",
        "# print(X)\n",
        "# print(Y)\n",
        "\n",
        "X_train=X[range(0,150,2),:]\n",
        "Y_train=Y[range(0,150,2)]\n",
        "\n",
        "X_test=X[range(1,150,2),:]\n",
        "Y_test=Y[range(1,150,2)]\n"
      ]
    },
    {
      "cell_type": "code",
      "execution_count": null,
      "metadata": {
        "id": "zlwx0JL4O4ts"
      },
      "outputs": [],
      "source": [
        "def print_predict(classify,X_test):\n",
        "    prediction=classify.predict(X_test)\n",
        "    print(\"Predictions\\n\")\n",
        "    print(prediction)\n",
        "    print(\"\\nAccuracy with normalize = \",mt.accuracy_score(Y_test,prediction,normalize=True))\n",
        "    print(mt.classification_report(Y_test,prediction))\n",
        "    print(mt.confusion_matrix(Y_test,prediction))\n",
        "\n",
        "def gaussian(X_train,Y_train,X_test):\n",
        "    classify=GNB() # for gaussian\n",
        "    classify.fit(X_train,Y_train)\n",
        "\n",
        "    print(\"Attributes\\n\")\n",
        "    print(classify.get_params())\n",
        "    print(classify.class_count_)\n",
        "    print(classify.class_prior_)\n",
        "    print(classify.epsilon_)\n",
        "    print(classify.theta_)\n",
        "    print(classify.sigma_)\n",
        "\n",
        "    print_predict(classify,X_test)\n",
        "\n",
        "def bernoulli(X_train,Y_train,X_test):\n",
        "    classify=BNB() # for Bernoulli\n",
        "    classify.fit(X_train,Y_train)\n",
        "\n",
        "    print(\"Attributes\\n\")\n",
        "    print(classify.get_params())\n",
        "    print(classify.class_count_)\n",
        "    print(classify.class_log_prior_)\n",
        "    print(classify.classes_)\n",
        "    print(classify.feature_count_)\n",
        "    print(classify.feature_log_prob_)\n",
        "    print(classify.n_features_)\n",
        "\n",
        "    print_predict(classify,X_test)\n",
        "\n",
        "def multinomial(X_train,Y_train,X_test):\n",
        "    classify=MNB() # for Multinomial\n",
        "    classify.fit(X_train,Y_train)\n",
        "\n",
        "    print(\"Attributes\\n\")\n",
        "    print(classify.get_params())\n",
        "    print(classify.class_count_)\n",
        "    print(classify.class_log_prior_)\n",
        "    print(classify.classes_)\n",
        "    print(classify.coef_)\n",
        "    print(classify.feature_count_)\n",
        "    print(classify.feature_log_prob_)\n",
        "    print(classify.intercept_)\n",
        "    print(classify.n_features_)\n",
        "\n",
        "    print_predict(classify,X_test)"
      ]
    },
    {
      "cell_type": "code",
      "execution_count": null,
      "metadata": {
        "id": "wvKtCZLKO4tt",
        "outputId": "11416a3d-6c85-4c04-e9f0-297e42614fa8"
      },
      "outputs": [
        {
          "name": "stdout",
          "output_type": "stream",
          "text": [
            "Gaussian\n",
            "\n",
            "Attributes\n",
            "\n",
            "{'priors': None, 'var_smoothing': 1e-09}\n",
            "[25. 25. 25.]\n",
            "[0.33333333 0.33333333 0.33333333]\n",
            "3.1364906666666653e-09\n",
            "[[5.024 3.48  1.456 0.228]\n",
            " [5.992 2.776 4.308 1.352]\n",
            " [6.504 2.936 5.564 2.076]]\n",
            "[[0.146624 0.1016   0.040864 0.006016]\n",
            " [0.296736 0.108224 0.220736 0.036096]\n",
            " [0.349184 0.079104 0.285504 0.074624]]\n",
            "Predictions\n",
            "\n",
            "[0 0 0 0 0 0 0 0 0 0 0 0 0 0 0 0 0 0 0 0 0 0 0 0 0 1 1 1 1 1 1 1 1 1 1 1 1\n",
            " 1 2 1 1 1 1 1 1 1 1 1 1 1 2 2 2 2 2 2 2 2 2 1 2 2 2 2 2 2 1 2 2 2 2 2 2 2\n",
            " 2]\n",
            "\n",
            "Accuracy with normalize =  0.96\n",
            "              precision    recall  f1-score   support\n",
            "\n",
            "           0       1.00      1.00      1.00        25\n",
            "           1       0.92      0.96      0.94        25\n",
            "           2       0.96      0.92      0.94        25\n",
            "\n",
            "    accuracy                           0.96        75\n",
            "   macro avg       0.96      0.96      0.96        75\n",
            "weighted avg       0.96      0.96      0.96        75\n",
            "\n",
            "[[25  0  0]\n",
            " [ 0 24  1]\n",
            " [ 0  2 23]]\n"
          ]
        }
      ],
      "source": [
        "print(\"Gaussian\\n\")\n",
        "gaussian(X_train,Y_train,X_test)"
      ]
    },
    {
      "cell_type": "code",
      "execution_count": null,
      "metadata": {
        "id": "6VRA7QcRO4tu",
        "outputId": "c3091941-17c5-4732-9b13-6dbe25c13de4"
      },
      "outputs": [
        {
          "name": "stdout",
          "output_type": "stream",
          "text": [
            "Bernoulli\n",
            "\n",
            "Attributes\n",
            "\n",
            "{'alpha': 1.0, 'binarize': 0.0, 'class_prior': None, 'fit_prior': True}\n",
            "[25. 25. 25.]\n",
            "[-1.09861229 -1.09861229 -1.09861229]\n",
            "[0 1 2]\n",
            "[[25. 25. 25. 25.]\n",
            " [25. 25. 25. 25.]\n",
            " [25. 25. 25. 25.]]\n",
            "[[-0.03774033 -0.03774033 -0.03774033 -0.03774033]\n",
            " [-0.03774033 -0.03774033 -0.03774033 -0.03774033]\n",
            " [-0.03774033 -0.03774033 -0.03774033 -0.03774033]]\n",
            "4\n",
            "Predictions\n",
            "\n",
            "[0 0 0 0 0 0 0 0 0 0 0 0 0 0 0 0 0 0 0 0 0 0 0 0 0 0 0 0 0 0 0 0 0 0 0 0 0\n",
            " 0 0 0 0 0 0 0 0 0 0 0 0 0 0 0 0 0 0 0 0 0 0 0 0 0 0 0 0 0 0 0 0 0 0 0 0 0\n",
            " 0]\n",
            "\n",
            "Accuracy with normalize =  0.3333333333333333\n",
            "              precision    recall  f1-score   support\n",
            "\n",
            "           0       0.33      1.00      0.50        25\n",
            "           1       0.00      0.00      0.00        25\n",
            "           2       0.00      0.00      0.00        25\n",
            "\n",
            "    accuracy                           0.33        75\n",
            "   macro avg       0.11      0.33      0.17        75\n",
            "weighted avg       0.11      0.33      0.17        75\n",
            "\n",
            "[[25  0  0]\n",
            " [25  0  0]\n",
            " [25  0  0]]\n"
          ]
        },
        {
          "name": "stderr",
          "output_type": "stream",
          "text": [
            "C:\\Users\\DELL\\anaconda3\\lib\\site-packages\\sklearn\\metrics\\_classification.py:1272: UndefinedMetricWarning: Precision and F-score are ill-defined and being set to 0.0 in labels with no predicted samples. Use `zero_division` parameter to control this behavior.\n",
            "  _warn_prf(average, modifier, msg_start, len(result))\n"
          ]
        }
      ],
      "source": [
        "print(\"Bernoulli\\n\")\n",
        "bernoulli(X_train,Y_train,X_test)"
      ]
    },
    {
      "cell_type": "code",
      "execution_count": null,
      "metadata": {
        "id": "GNRM2G8NO4tu",
        "outputId": "a8def800-480e-4cc0-faf1-2dd5a729e928"
      },
      "outputs": [
        {
          "name": "stdout",
          "output_type": "stream",
          "text": [
            "Multinomial\n",
            "Attributes\n",
            "\n",
            "{'alpha': 1.0, 'class_prior': None, 'fit_prior': True}\n",
            "[25. 25. 25.]\n",
            "[-1.09861229 -1.09861229 -1.09861229]\n",
            "[0 1 2]\n",
            "[[-0.71463658 -1.07833227 -1.93399838 -3.65356156]\n",
            " [-0.88312064 -1.64488183 -1.2104833  -2.34945771]\n",
            " [-0.96868367 -1.75665215 -1.12375164 -2.09770475]]\n",
            "[[125.6  87.   36.4   5.7]\n",
            " [149.8  69.4 107.7  33.8]\n",
            " [162.6  73.4 139.1  51.9]]\n",
            "[[-0.71463658 -1.07833227 -1.93399838 -3.65356156]\n",
            " [-0.88312064 -1.64488183 -1.2104833  -2.34945771]\n",
            " [-0.96868367 -1.75665215 -1.12375164 -2.09770475]]\n",
            "[-1.09861229 -1.09861229 -1.09861229]\n",
            "4\n",
            "Predictions\n",
            "\n",
            "[0 0 0 0 0 0 0 0 0 0 0 0 0 0 0 0 0 0 0 0 0 0 0 0 0 1 1 1 1 1 1 1 1 1 1 1 1\n",
            " 1 1 1 1 2 1 1 1 1 1 1 1 1 2 2 2 2 2 2 2 2 2 2 2 2 1 2 1 1 1 2 2 2 2 2 2 2\n",
            " 2]\n",
            "\n",
            "Accuracy with normalize =  0.9333333333333333\n",
            "              precision    recall  f1-score   support\n",
            "\n",
            "           0       1.00      1.00      1.00        25\n",
            "           1       0.86      0.96      0.91        25\n",
            "           2       0.95      0.84      0.89        25\n",
            "\n",
            "    accuracy                           0.93        75\n",
            "   macro avg       0.94      0.93      0.93        75\n",
            "weighted avg       0.94      0.93      0.93        75\n",
            "\n",
            "[[25  0  0]\n",
            " [ 0 24  1]\n",
            " [ 0  4 21]]\n"
          ]
        }
      ],
      "source": [
        "print(\"Multinomial\")\n",
        "multinomial(X_train,Y_train,X_test)"
      ]
    },
    {
      "cell_type": "code",
      "execution_count": null,
      "metadata": {
        "id": "Ej5LxNz-O4tv"
      },
      "outputs": [],
      "source": []
    }
  ],
  "metadata": {
    "kernelspec": {
      "display_name": "Python 3",
      "language": "python",
      "name": "python3"
    },
    "language_info": {
      "codemirror_mode": {
        "name": "ipython",
        "version": 3
      },
      "file_extension": ".py",
      "mimetype": "text/x-python",
      "name": "python",
      "nbconvert_exporter": "python",
      "pygments_lexer": "ipython3",
      "version": "3.7.6"
    },
    "colab": {
      "provenance": []
    }
  },
  "nbformat": 4,
  "nbformat_minor": 0
}